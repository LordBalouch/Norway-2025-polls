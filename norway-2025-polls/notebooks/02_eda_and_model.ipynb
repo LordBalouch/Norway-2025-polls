{
 "cells": [
  {
   "cell_type": "markdown",
   "id": "4e8054f6",
   "metadata": {},
   "source": [
    "# 02 – EDA og enkel modell\n",
    "\n",
    "Vi leser fra SQLite, lager ferskhetsvekter, beregner vektet snitt for partier og simulerer blokkflertall."
   ]
  },
  {
   "cell_type": "code",
   "execution_count": null,
   "id": "97e9a26a",
   "metadata": {},
   "outputs": [],
   "source": [
    "# Oppsett\n",
    "import sys, os\n",
    "sys.path.append(os.path.abspath(\"src\"))\n",
    "import pandas as pd\n",
    "import numpy as np\n",
    "import matplotlib.pyplot as plt\n",
    "from src.db import get_conn\n",
    "from src.model import recency_weights, weighted_average, simulate_majority\n",
    "from src.utils.party_maps import PARTY_CODES, DEFAULT_BLOCKS\n"
   ]
  },
  {
   "cell_type": "code",
   "execution_count": null,
   "id": "e023266a",
   "metadata": {},
   "outputs": [],
   "source": [
    "# Last data og pivoter til bredt format\n",
    "con = get_conn()\n",
    "df_polls = pd.read_sql_query('SELECT * FROM polls', con)\n",
    "df_res = pd.read_sql_query('SELECT * FROM poll_results', con)\n",
    "wide = df_res.pivot_table(index='poll_id', columns='party', values='percent', aggfunc='first').reset_index()\n",
    "df = df_polls.merge(wide, left_on='id', right_on='poll_id', how='left')\n",
    "df['fieldwork_end'] = pd.to_datetime(df['fieldwork_end'], errors='coerce')\n",
    "df = df.sort_values('fieldwork_end')\n",
    "df.tail(3)"
   ]
  },
  {
   "cell_type": "code",
   "execution_count": null,
   "id": "643a864a",
   "metadata": {},
   "outputs": [],
   "source": [
    "# Lag ferskhetsvekter og vektet snitt\n",
    "df['w_recency'] = recency_weights(df['fieldwork_end'])\n",
    "avg = weighted_average(df, 'w_recency')\n",
    "avg.sort_values(ascending=False)"
   ]
  },
  {
   "cell_type": "code",
   "execution_count": null,
   "id": "964df737",
   "metadata": {},
   "outputs": [],
   "source": [
    "# Plot vektet gjennomsnitt\n",
    "plt.figure()\n",
    "avg[avg.index != 'Andre'].plot(kind='bar')\n",
    "plt.title('Vektet gjennomsnitt (%) – partier')\n",
    "plt.ylabel('Prosent')"
   ]
  },
  {
   "cell_type": "code",
   "execution_count": null,
   "id": "2df69dcb",
   "metadata": {},
   "outputs": [],
   "source": [
    "# Simuler blokkflertall\n",
    "maj = simulate_majority(avg)\n",
    "maj"
   ]
  },
  {
   "cell_type": "code",
   "execution_count": null,
   "id": "148e4d17",
   "metadata": {},
   "outputs": [],
   "source": [
    "# Enkel blokkoppslutning\n",
    "left = ['Ap','SV','Sp','R','MDG']\n",
    "right = ['H','FrP','V','KrF']\n",
    "left_sum = float(avg[left].sum())\n",
    "right_sum = float(avg[right].sum())\n",
    "pd.Series({'left_sum': left_sum, 'right_sum': right_sum, 'andre': float(avg.get('Andre', 0.0))})"
   ]
  },
  {
   "cell_type": "markdown",
   "id": "1cf0b750",
   "metadata": {},
   "source": [
    "## Koalisjonsanalyse (skjelett)\n",
    "\n",
    "Konfigurer en sannsynlighetsmatrise for samarbeid som heuristikk. Dette kan raffineres med ekspertregler eller historikk."
   ]
  },
  {
   "cell_type": "code",
   "execution_count": null,
   "id": "b26f8580",
   "metadata": {},
   "outputs": [],
   "source": [
    "# Heuristisk koalisjonsmatrise (0–1). Tallene er plassholdere for videre arbeid.\n",
    "parties = ['Ap','H','FrP','SV','Sp','V','KrF','MDG','R']\n",
    "import pandas as pd\n",
    "coalesce = pd.DataFrame(0.0, index=parties, columns=parties)\n",
    "pref = {\n",
    "    'V': {'H':0.9, 'KrF':0.7, 'Ap':0.1},\n",
    "    'KrF': {'H':0.7, 'V':0.7, 'Ap':0.2},\n",
    "    'Sp': {'Ap':0.8, 'SV':0.6, 'H':0.2},\n",
    "    'SV': {'Ap':0.9, 'Sp':0.6},\n",
    "    'MDG': {'Ap':0.7, 'SV':0.6, 'H':0.3},\n",
    "    'FrP': {'H':0.8, 'V':0.2},\n",
    "    'Ap': {'SV':0.8, 'Sp':0.7},\n",
    "    'H': {'V':0.9, 'KrF':0.8, 'FrP':0.6},\n",
    "    'R': {'SV':0.5, 'Ap':0.4}\n",
    "}\n",
    "for a, mp in pref.items():\n",
    "    for b, v in mp.items():\n",
    "        coalesce.loc[a, b] = v\n",
    "coalesce"
   ]
  }
 ],
 "metadata": {},
 "nbformat": 4,
 "nbformat_minor": 5
}
