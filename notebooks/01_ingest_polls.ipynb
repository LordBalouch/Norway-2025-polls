{
 "cells": [
  {
   "cell_type": "markdown",
   "id": "39dd3bad",
   "metadata": {},
   "source": [
    "# 01 – Innhenting av meningsmålinger (Wikipedia)\n",
    "\n",
    "Denne notebooken henter tabeller fra Wikipedia og lagrer i SQLite."
   ]
  },
  {
   "cell_type": "code",
   "execution_count": null,
   "id": "29d49699",
   "metadata": {},
   "outputs": [],
   "source": [
    "# Oppsett\n",
    "import sys, os\n",
    "sys.path.append(os.path.abspath(\"src\"))\n",
    "from src.data.wikipedia import fetch_wikipedia_polls\n",
    "from src.db import get_conn, init_db, insert_poll\n",
    "import pandas as pd\n"
   ]
  },
  {
   "cell_type": "code",
   "execution_count": null,
   "id": "03a73477",
   "metadata": {},
   "outputs": [],
   "source": [
    "# Hent tabell(er) fra Wikipedia\n",
    "df = fetch_wikipedia_polls()\n",
    "print(df.shape)\n",
    "df.head(10)"
   ]
  },
  {
   "cell_type": "code",
   "execution_count": null,
   "id": "0772f169",
   "metadata": {},
   "outputs": [],
   "source": [
    "# Skriv til SQLite\n",
    "conn = get_conn()\n",
    "init_db(conn)\n",
    "n = 0\n",
    "for _, row in df.iterrows():\n",
    "    meta = {\n",
    "        'source': 'wikipedia',\n",
    "        'pollster': row.get('pollster'),\n",
    "        'client': row.get('client'),\n",
    "        'fieldwork_start': row.get('fieldwork_start'),\n",
    "        'fieldwork_end': row.get('fieldwork_end'),\n",
    "        'publish_date': None,\n",
    "        'sample_size': int(row['sample_size']) if pd.notnull(row.get('sample_size')) else None,\n",
    "        'population': row.get('population'),\n",
    "        'url': row.get('url')\n",
    "    }\n",
    "    results = {p: row.get(p) for p in ['Ap','H','FrP','SV','Sp','V','KrF','MDG','R','Andre'] if p in row.index}\n",
    "    insert_poll(conn, meta, results)\n",
    "    n += 1\n",
    "print(\"Innsatte rader:\", n)"
   ]
  },
  {
   "cell_type": "code",
   "execution_count": null,
   "id": "358ee463",
   "metadata": {},
   "outputs": [],
   "source": [
    "# Sjekk at data finnes\n",
    "import pandas as pd\n",
    "con = get_conn()\n",
    "polls = pd.read_sql_query('SELECT * FROM polls ORDER BY fieldwork_end DESC LIMIT 5', con)\n",
    "results = pd.read_sql_query('SELECT * FROM poll_results WHERE poll_id IN (SELECT id FROM polls ORDER BY fieldwork_end DESC LIMIT 5)', con)\n",
    "polls, results.head(20)"
   ]
  }
 ],
 "metadata": {},
 "nbformat": 4,
 "nbformat_minor": 5
}
